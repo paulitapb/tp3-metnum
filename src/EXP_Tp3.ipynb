{
 "cells": [
  {
   "cell_type": "markdown",
   "metadata": {},
   "source": [
    "# **Experimentación TP3**"
   ]
  },
  {
   "cell_type": "code",
   "execution_count": 1,
   "metadata": {},
   "outputs": [
    {
     "name": "stdout",
     "output_type": "stream",
     "text": [
      "importing Jupyter notebook from utils.ipynb\n"
     ]
    }
   ],
   "source": [
    "import numpy as np\n",
    "import matplotlib as plt\n",
    "import numpy.linalg as lng\n",
    "from scipy.linalg import lu\n",
    "from scipy import linalg\n",
    "import networkx as nx\n",
    "from scipy.stats.stats import pearsonr\n",
    "import pandas as pd\n",
    "import matplotlib.pyplot as plt\n",
    "import seaborn as sns\n",
    "import import_ipynb\n",
    "import utils \n",
    "sns.set_style(\"whitegrid\")"
   ]
  },
  {
   "cell_type": "markdown",
   "metadata": {},
   "source": [
    "Probando ejemplos"
   ]
  },
  {
   "cell_type": "code",
   "execution_count": 2,
   "metadata": {},
   "outputs": [
    {
     "data": {
      "text/plain": [
       "array([0.24074002, 0.21864311, 0.21864311, 0.24074002, 0.08123375])"
      ]
     },
     "execution_count": 2,
     "metadata": {},
     "output_type": "execute_result"
    }
   ],
   "source": [
    "A = utils.leer_grafo('tests/test_aleatorio.txt')\n",
    "utils.calcular_ranks('tests/test_aleatorio.txt', 0.76)"
   ]
  },
  {
   "cell_type": "code",
   "execution_count": 3,
   "metadata": {},
   "outputs": [
    {
     "name": "stdout",
     "output_type": "stream",
     "text": [
      "Converge Jacobi:  True 0.5833698282254386\n",
      "[0.24074002 0.21864311 0.21864311 0.24074002 0.08123375]\n",
      "[0.24074002 0.21864311 0.21864311 0.24074002 0.08123375]\n"
     ]
    }
   ],
   "source": [
    "G = utils.leer_grafo('tests/test_aleatorio.txt')\n",
    "n = np.shape(G)[0]\n",
    "cjs = utils.grados(G)\n",
    "D = np.array(np.diag(cjs))\n",
    "I = np.array(np.eye((n)))\n",
    "R = G @ D\n",
    "pR = 0.76*R\n",
    "A = I - pR\n",
    "col = np.array(np.ones(n))\n",
    "\n",
    "x_init = np.random.rand(n)\n",
    "x = linalg.solve(A, col)\n",
    "normalized_x = (x)/np.sum(x)\n",
    "normalized_x\n",
    "\n",
    "sol, error = utils.jacobi(A, col, 10000, x_init, x)\n",
    "normalized_sol = (sol)/np.sum(sol)\n",
    "\n",
    "print(normalized_x)\n",
    "print(normalized_sol)"
   ]
  },
  {
   "cell_type": "markdown",
   "metadata": {},
   "source": [
    "# GRAFOS PARTICULARES"
   ]
  },
  {
   "cell_type": "code",
   "execution_count": 4,
   "metadata": {},
   "outputs": [],
   "source": [
    "def armar_grafo_supernodo(n):\n",
    "  #El nodo 0 es la página supernodo que es citada por todas y los demás nodos  \n",
    "    supernodo = np.array(np.zeros(n*n)).reshape(n, n) ## i en w[i][j] j->i\n",
    "    for j in range(1, n):\n",
    "          # todos linkean al supernodo\n",
    "          supernodo[0][j] = 1\n",
    "    utils.generar_archivo_test_de_matriz('test_supernodo_' + str(n) + '.txt', supernodo)\n",
    "    return supernodo"
   ]
  },
  {
   "cell_type": "code",
   "execution_count": 5,
   "metadata": {},
   "outputs": [],
   "source": [
    "S = armar_grafo_supernodo(10)"
   ]
  }
 ],
 "metadata": {
  "kernelspec": {
   "display_name": "Python 3.8.10 64-bit",
   "language": "python",
   "name": "python3"
  },
  "language_info": {
   "codemirror_mode": {
    "name": "ipython",
    "version": 3
   },
   "file_extension": ".py",
   "mimetype": "text/x-python",
   "name": "python",
   "nbconvert_exporter": "python",
   "pygments_lexer": "ipython3",
   "version": "3.8.10"
  },
  "orig_nbformat": 4,
  "vscode": {
   "interpreter": {
    "hash": "916dbcbb3f70747c44a77c7bcd40155683ae19c65e1c03b4aa3499c5328201f1"
   }
  }
 },
 "nbformat": 4,
 "nbformat_minor": 2
}
