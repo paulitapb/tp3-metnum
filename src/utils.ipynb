{
 "cells": [
  {
   "cell_type": "markdown",
   "metadata": {},
   "source": [
    "## UTILS"
   ]
  },
  {
   "cell_type": "code",
   "execution_count": 10,
   "metadata": {},
   "outputs": [],
   "source": [
    "import numpy as np\n",
    "import matplotlib as plt\n",
    "import numpy.linalg as lng\n",
    "from scipy.linalg import lu\n",
    "from scipy import linalg\n",
    "import networkx as nx\n",
    "from scipy.stats.stats import pearsonr\n",
    "import pandas as pd\n",
    "import matplotlib.pyplot as plt\n",
    "import seaborn as sns"
   ]
  },
  {
   "cell_type": "markdown",
   "metadata": {},
   "source": [
    "Leer grafos"
   ]
  },
  {
   "cell_type": "code",
   "execution_count": 4,
   "metadata": {},
   "outputs": [],
   "source": [
    "def leer_karateclub(path = \"../datasets/karateclub_matriz.txt\"):\n",
    "  M = np.zeros(34*34).reshape(34, 34)\n",
    "  with open(path,'r') as file:\n",
    "    # reading each line \n",
    "    i = 0\n",
    "    for line in file:\n",
    "      line = line.split()\n",
    "      for j in range(0, len(line)):\n",
    "\n",
    "        M[i][j] = line[j]\n",
    "      i+=1\n",
    "  return M"
   ]
  },
  {
   "cell_type": "code",
   "execution_count": 9,
   "metadata": {},
   "outputs": [],
   "source": [
    "def leer_labels_karate(path = \"../datasets/karateclub_labels.txt\"):\n",
    "    file = open(path,'r')\n",
    "    labels = np.zeros(34)\n",
    "    i = 0\n",
    "    with open(path,'r') as file:\n",
    "    # reading each line    \n",
    "        for line in file:\n",
    "            labels[i] = line\n",
    "            i+=1\n",
    "    return labels"
   ]
  },
  {
   "cell_type": "markdown",
   "metadata": {},
   "source": [
    "## Filtro facebook "
   ]
  },
  {
   "cell_type": "code",
   "execution_count": 8,
   "metadata": {},
   "outputs": [],
   "source": [
    "def leer_facebook():\n",
    "\n",
    "    feat = pd.read_csv(\"../datasets/ego-facebook.feat\", sep=\" \",  header = None)\n",
    "    edges_d = pd.read_csv(\"../datasets/ego-facebook.edges\", sep=\" \", header = None, names=[\"a\", \"b\"])\n",
    "    feat = feat.rename(columns={0: \"a\"})\n",
    "    display(feat)\n",
    "    #Filtro feat con los nodos de edges \n",
    "    edges = edges_d.values.flatten()\n",
    "    edges = np.unique(edges).astype(int)\n",
    "    edges =pd.DataFrame(edges)\n",
    "    edges = edges.rename(columns ={0:\"a\"})\n",
    "\n",
    "    feat = edges.merge(feat, on=\"a\", how= \"left\")\n",
    "    feat = feat.sort_values(by = [\"a\"])\n",
    "\n",
    "    #saco los ind de los nodos \n",
    "    feat_sin_ind = feat\n",
    "    feat_sin_ind.drop('a', axis = 1, inplace=True)\n",
    "\n",
    "    F_att = feat_sin_ind.to_numpy() #mat de atributos \n",
    "    \n",
    "    ed1 = edges_d[\"a\"]\n",
    "    ed2 = edges_d[\"b\"]\n",
    "    tags_ind = sorted(list(set(edges_d[\"a\"])))\n",
    "    f = np.array(np.zeros(786*786)).reshape(786, 786)\n",
    "    for i in range(0, len(ed1)):\n",
    "        ind_a = tags_ind.index(ed1[i])\n",
    "        ind_b = tags_ind.index(ed2[i])\n",
    "        f[ind_a][ind_b] = 1\n",
    "        f[ind_b][ind_a] = 1\n",
    "\n",
    "    return F_att, f\n"
   ]
  },
  {
   "cell_type": "markdown",
   "metadata": {},
   "source": [
    "Leer grafos"
   ]
  },
  {
   "cell_type": "code",
   "execution_count": 7,
   "metadata": {},
   "outputs": [],
   "source": [
    "def leer_grafo(path):\n",
    "    file = open(path,'r')\n",
    "    n = int(file.readline())\n",
    "    m = int(file.readline())\n",
    "    M = np.zeros((n, n))\n",
    "    i = 0\n",
    "    with open(path,'r') as file:\n",
    "    # reading each line    \n",
    "        for line in file:\n",
    "            if(i>1):\n",
    "                a = int(line.split()[0])\n",
    "                b = int(line.split()[1])\n",
    "                M[a-1][b-1] = 1\n",
    "            i+=1\n",
    "    return M"
   ]
  },
  {
   "cell_type": "markdown",
   "metadata": {},
   "source": [
    "Generar archivos de los tests"
   ]
  },
  {
   "cell_type": "code",
   "execution_count": null,
   "metadata": {},
   "outputs": [],
   "source": [
    "def generar_archivo_test_de_matriz(test_name, A):\n",
    "    #Dada una matriz te genera el .txt en el formato requerido\n",
    "    file = open('test_nuestros/' + test_name, 'w')\n",
    "    \n",
    "    with open('test_nuestros/' + test_name, 'w') as file:\n",
    "        file.write(str(np.shape(A)[0])+\"\\n\")\n",
    "        file.write(str(int(np.sum(A))) + \"\\n\")\n",
    "        for i in range(0,np.shape(A)[0]):\n",
    "            for j in range(0,np.shape(A)[0]):\n",
    "                if(A[i][j] == 1):\n",
    "                    file.write(str(i+1) + \"\\t\" + str(j+1) +\"\\n\")"
   ]
  },
  {
   "cell_type": "markdown",
   "metadata": {},
   "source": [
    "Metodos Iterativos"
   ]
  },
  {
   "cell_type": "code",
   "execution_count": 6,
   "metadata": {},
   "outputs": [],
   "source": [
    "def jacobi(A,b,reps,x_ini,x_direct):\n",
    "    # Matrices para los metodos iterativos\n",
    "    D = np.diag(np.diag(A))\n",
    "    L = np.triu(-A, k=1)\n",
    "    U = np.tril(-A, k=-1)\n",
    "    \n",
    "    T =  lng.inv(D) @(L+U)\n",
    "    c =  lng.inv(D) \n",
    "\n",
    "    print(\"Converge Jacobi: \" , max(abs(np.linalg.eig(T)[0])) <1, max(abs(np.linalg.eig(T)[0])) ) \n",
    "\n",
    "    xi = x_ini \n",
    "    error = []\n",
    "    for i in range(reps):\n",
    "        xi = T@xi + c@b\n",
    "        error.append(np.linalg.norm(xi - x_direct))\n",
    "    return xi, error"
   ]
  },
  {
   "cell_type": "code",
   "execution_count": 5,
   "metadata": {},
   "outputs": [],
   "source": [
    "def gauss_seidel(A,b,reps,x_ini,x_direct):\n",
    "    # Matrices para los metodos iterativos\n",
    "    D = np.diag(np.diag(A))\n",
    "\n",
    "    L = np.tril(-A, k=-1)\n",
    "    U = np.triu(-A, k=1) \n",
    "\n",
    "    T = (np.linalg.inv(D-L))@U \n",
    "    c = (np.linalg.inv(D-L))\n",
    "\n",
    "    print(\"Converge GS: \" , max(abs(np.linalg.eig(T)[0])) <1,  max(abs(np.linalg.eig(T)[0]))) \n",
    "\n",
    "    xi = x_ini \n",
    "    error = []\n",
    "    for i in range(reps):\n",
    "        xi = T@xi + c@b \n",
    "        error.append(np.linalg.norm(xi - x_direct))\n",
    "    return xi, error"
   ]
  },
  {
   "cell_type": "markdown",
   "metadata": {},
   "source": [
    "Metodos Directos"
   ]
  },
  {
   "cell_type": "code",
   "execution_count": 4,
   "metadata": {},
   "outputs": [],
   "source": [
    "def grados(A):\n",
    "    res = np.zeros(np.shape(A)[0])\n",
    "    for i in range(0, np.shape(A)[0]):\n",
    "        if(np.sum(A,axis = 0)[i] != 0):\n",
    "            res[i] = 1/(np.sum(A,axis = 0)[i])\n",
    "    return res\n",
    "    \n",
    "def calcular_ranks(test, p):\n",
    "    G = leer_grafo( test)\n",
    "    n = np.shape(G)[0]\n",
    "    cjs = grados(G)\n",
    "    D = np.array(np.diag(cjs))\n",
    "    I = np.array(np.eye((n)))\n",
    "    R = G @ D\n",
    "    pR = p*R\n",
    "    A = I - pR\n",
    "    col = np.array(np.ones(n))\n",
    "    x = lng.solve(A, col)\n",
    "    normalized_x = (x)/np.sum(x)\n",
    "    \n",
    "    return normalized_x"
   ]
  }
 ],
 "metadata": {
  "kernelspec": {
   "display_name": "Python 3.8.10 64-bit",
   "language": "python",
   "name": "python3"
  },
  "language_info": {
   "codemirror_mode": {
    "name": "ipython",
    "version": 3
   },
   "file_extension": ".py",
   "mimetype": "text/x-python",
   "name": "python",
   "nbconvert_exporter": "python",
   "pygments_lexer": "ipython3",
   "version": "3.8.10"
  },
  "orig_nbformat": 4,
  "vscode": {
   "interpreter": {
    "hash": "916dbcbb3f70747c44a77c7bcd40155683ae19c65e1c03b4aa3499c5328201f1"
   }
  }
 },
 "nbformat": 4,
 "nbformat_minor": 2
}
