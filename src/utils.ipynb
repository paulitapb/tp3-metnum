{
 "cells": [
  {
   "cell_type": "markdown",
   "metadata": {},
   "source": [
    "## UTILS"
   ]
  },
  {
   "cell_type": "code",
   "execution_count": 5,
   "metadata": {},
   "outputs": [],
   "source": [
    "import numpy as np\n",
    "import pandas as pd "
   ]
  },
  {
   "cell_type": "markdown",
   "metadata": {},
   "source": [
    "Leer grafos"
   ]
  },
  {
   "cell_type": "code",
   "execution_count": 4,
   "metadata": {},
   "outputs": [],
   "source": [
    "def leer_karateclub(path = \"../datasets/karateclub_matriz.txt\"):\n",
    "  M = np.zeros(34*34).reshape(34, 34)\n",
    "  with open(path,'r') as file:\n",
    "    # reading each line \n",
    "    i = 0\n",
    "    for line in file:\n",
    "      line = line.split()\n",
    "      for j in range(0, len(line)):\n",
    "\n",
    "        M[i][j] = line[j]\n",
    "      i+=1\n",
    "  return M"
   ]
  },
  {
   "cell_type": "code",
   "execution_count": null,
   "metadata": {},
   "outputs": [],
   "source": [
    "def leer_labels_karate(path = \"../datasets/karateclub_labels.txt\"):\n",
    "    file = open(path,'r')\n",
    "    labels = np.zeros(34)\n",
    "    i = 0\n",
    "    with open(path,'r') as file:\n",
    "    # reading each line    \n",
    "        for line in file:\n",
    "            labels[i] = line\n",
    "            i+=1\n",
    "    return labels"
   ]
  },
  {
   "cell_type": "markdown",
   "metadata": {},
   "source": [
    "## Filtro facebook "
   ]
  },
  {
   "cell_type": "code",
   "execution_count": null,
   "metadata": {},
   "outputs": [],
   "source": [
    "def leer_facebook():\n",
    "\n",
    "    feat = pd.read_csv(\"../datasets/ego-facebook.feat\", sep=\" \",  header = None)\n",
    "    edges_d = pd.read_csv(\"../datasets/ego-facebook.edges\", sep=\" \", header = None, names=[\"a\", \"b\"])\n",
    "    feat = feat.rename(columns={0: \"a\"})\n",
    "    display(feat)\n",
    "    #Filtro feat con los nodos de edges \n",
    "    edges = edges_d.values.flatten()\n",
    "    edges = np.unique(edges).astype(int)\n",
    "    edges =pd.DataFrame(edges)\n",
    "    edges = edges.rename(columns ={0:\"a\"})\n",
    "\n",
    "    feat = edges.merge(feat, on=\"a\", how= \"left\")\n",
    "    feat = feat.sort_values(by = [\"a\"])\n",
    "\n",
    "    #saco los ind de los nodos \n",
    "    feat_sin_ind = feat\n",
    "    feat_sin_ind.drop('a', axis = 1, inplace=True)\n",
    "\n",
    "    F_att = feat_sin_ind.to_numpy() #mat de atributos \n",
    "    \n",
    "    ed1 = edges_d[\"a\"]\n",
    "    ed2 = edges_d[\"b\"]\n",
    "    tags_ind = sorted(list(set(edges_d[\"a\"])))\n",
    "    f = np.array(np.zeros(786*786)).reshape(786, 786)\n",
    "    for i in range(0, len(ed1)):\n",
    "        ind_a = tags_ind.index(ed1[i])\n",
    "        ind_b = tags_ind.index(ed2[i])\n",
    "        f[ind_a][ind_b] = 1\n",
    "        f[ind_b][ind_a] = 1\n",
    "\n",
    "    return F_att, f\n"
   ]
  }
 ],
 "metadata": {
  "kernelspec": {
   "display_name": "Python 3.8.10 64-bit",
   "language": "python",
   "name": "python3"
  },
  "language_info": {
   "codemirror_mode": {
    "name": "ipython",
    "version": 3
   },
   "file_extension": ".py",
   "mimetype": "text/x-python",
   "name": "python",
   "nbconvert_exporter": "python",
   "pygments_lexer": "ipython3",
   "version": "3.8.10"
  },
  "orig_nbformat": 4,
  "vscode": {
   "interpreter": {
    "hash": "916dbcbb3f70747c44a77c7bcd40155683ae19c65e1c03b4aa3499c5328201f1"
   }
  }
 },
 "nbformat": 4,
 "nbformat_minor": 2
}
