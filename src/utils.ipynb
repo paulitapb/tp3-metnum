{
 "cells": [
  {
   "cell_type": "markdown",
   "metadata": {},
   "source": [
    "## UTILS"
   ]
  },
  {
   "cell_type": "code",
   "execution_count": 10,
   "metadata": {},
   "outputs": [],
   "source": [
    "import numpy as np\n",
    "import matplotlib as plt\n",
    "import numpy.linalg as lng\n",
    "from scipy.linalg import lu\n",
    "from scipy import linalg\n",
    "import networkx as nx\n",
    "from scipy.stats.stats import pearsonr\n",
    "import pandas as pd\n",
    "import matplotlib.pyplot as plt\n",
    "import seaborn as sns"
   ]
  },
  {
   "cell_type": "markdown",
   "metadata": {},
   "source": [
    "Leer grafos"
   ]
  },
  {
   "cell_type": "code",
   "execution_count": 4,
   "metadata": {},
   "outputs": [],
   "source": [
    "def leer_karateclub(path = \"../datasets/karateclub_matriz.txt\"):\n",
    "  M = np.zeros(34*34).reshape(34, 34)\n",
    "  with open(path,'r') as file:\n",
    "    # reading each line \n",
    "    i = 0\n",
    "    for line in file:\n",
    "      line = line.split()\n",
    "      for j in range(0, len(line)):\n",
    "\n",
    "        M[i][j] = line[j]\n",
    "      i+=1\n",
    "  return M"
   ]
  },
  {
   "cell_type": "code",
   "execution_count": 9,
   "metadata": {},
   "outputs": [],
   "source": [
    "def leer_labels_karate(path = \"../datasets/karateclub_labels.txt\"):\n",
    "    file = open(path,'r')\n",
    "    labels = np.zeros(34)\n",
    "    i = 0\n",
    "    with open(path,'r') as file:\n",
    "    # reading each line    \n",
    "        for line in file:\n",
    "            labels[i] = line\n",
    "            i+=1\n",
    "    return labels"
   ]
  },
  {
   "cell_type": "markdown",
   "metadata": {},
   "source": [
    "## Filtro facebook "
   ]
  },
  {
   "cell_type": "code",
   "execution_count": 8,
   "metadata": {},
   "outputs": [],
   "source": [
    "def leer_facebook():\n",
    "\n",
    "    feat = pd.read_csv(\"../datasets/ego-facebook.feat\", sep=\" \",  header = None)\n",
    "    edges_d = pd.read_csv(\"../datasets/ego-facebook.edges\", sep=\" \", header = None, names=[\"a\", \"b\"])\n",
    "    feat = feat.rename(columns={0: \"a\"})\n",
    "    display(feat)\n",
    "    #Filtro feat con los nodos de edges \n",
    "    edges = edges_d.values.flatten()\n",
    "    edges = np.unique(edges).astype(int)\n",
    "    edges =pd.DataFrame(edges)\n",
    "    edges = edges.rename(columns ={0:\"a\"})\n",
    "\n",
    "    feat = edges.merge(feat, on=\"a\", how= \"left\")\n",
    "    feat = feat.sort_values(by = [\"a\"])\n",
    "\n",
    "    #saco los ind de los nodos \n",
    "    feat_sin_ind = feat\n",
    "    feat_sin_ind.drop('a', axis = 1, inplace=True)\n",
    "\n",
    "    F_att = feat_sin_ind.to_numpy() #mat de atributos \n",
    "    \n",
    "    ed1 = edges_d[\"a\"]\n",
    "    ed2 = edges_d[\"b\"]\n",
    "    tags_ind = sorted(list(set(edges_d[\"a\"])))\n",
    "    f = np.array(np.zeros(786*786)).reshape(786, 786)\n",
    "    for i in range(0, len(ed1)):\n",
    "        ind_a = tags_ind.index(ed1[i])\n",
    "        ind_b = tags_ind.index(ed2[i])\n",
    "        f[ind_a][ind_b] = 1\n",
    "        f[ind_b][ind_a] = 1\n",
    "\n",
    "    return F_att, f\n"
   ]
  },
  {
   "cell_type": "markdown",
   "metadata": {},
   "source": [
    "Leer grafos"
   ]
  },
  {
   "cell_type": "code",
   "execution_count": 7,
   "metadata": {},
   "outputs": [],
   "source": [
    "def leer_grafo(path):\n",
    "    file = open(path,'r')\n",
    "    n = int(file.readline())\n",
    "    m = int(file.readline())\n",
    "    M = np.zeros((n, n))\n",
    "    i = 0\n",
    "    with open(path,'r') as file:\n",
    "    # reading each line    \n",
    "        for line in file:\n",
    "            if(i>1):\n",
    "                a = int(line.split()[0])\n",
    "                b = int(line.split()[1])\n",
    "                M[a-1][b-1] = 1\n",
    "            i+=1\n",
    "    return M"
   ]
  },
  {
   "cell_type": "markdown",
   "metadata": {},
   "source": [
    "Generar archivos de los tests"
   ]
  },
  {
   "cell_type": "code",
   "execution_count": null,
   "metadata": {},
   "outputs": [],
   "source": [
    "def generar_archivo_test_de_matriz(test_name, A):\n",
    "    #Dada una matriz te genera el .txt en el formato requerido\n",
    "    file = open('test_nuestros/' + test_name, 'w')\n",
    "    \n",
    "    with open('test_nuestros/' + test_name, 'w') as file:\n",
    "        file.write(str(np.shape(A)[0])+\"\\n\")\n",
    "        file.write(str(int(np.sum(A))) + \"\\n\")\n",
    "        for i in range(0,np.shape(A)[0]):\n",
    "            for j in range(0,np.shape(A)[0]):\n",
    "                if(A[i][j] == 1):\n",
    "                    file.write(str(i+1) + \"\\t\" + str(j+1) +\"\\n\")"
   ]
  },
  {
   "cell_type": "markdown",
   "metadata": {},
   "source": [
    "Leer experimentos"
   ]
  },
  {
   "cell_type": "code",
   "execution_count": null,
   "metadata": {},
   "outputs": [],
   "source": [
    "def read_results_time(test_name):\n",
    "    times = []\n",
    "    file = open(\"tiempos_exp/\" + test_name + \".exp\",'r')\n",
    "    with open(\"tiempos_exp/\" +test_name + \".exp\",'r') as file:\n",
    "        for line in file:\n",
    "            times.append(float(line.split()[0]))\n",
    "    return times"
   ]
  },
  {
   "cell_type": "code",
   "execution_count": null,
   "metadata": {},
   "outputs": [],
   "source": [
    "def read_results_conv(test_name):\n",
    "    iters = []\n",
    "    epsilons = []\n",
    "    file = open(\"iters_exp/\" + test_name + \".exp\",'r')\n",
    "    with open(\"iters_exp/\" +test_name + \".exp\",'r') as file:\n",
    "        for line in file:\n",
    "            iters.append(int(line.split()[0]))\n",
    "            epsilons.append(float(line.split()[1]))\n",
    "    return iters, epsilons"
   ]
  },
  {
   "cell_type": "code",
   "execution_count": null,
   "metadata": {},
   "outputs": [],
   "source": [
    "def results_times(test):\n",
    "    \n",
    "    timesEG = read_results_time(test + \"EG\")\n",
    "    \n",
    "    timesJac = read_results_time(test + \"Jac\")\n",
    "    \n",
    "    timesGS = read_results_time(test + \"GS\")\n",
    "\n",
    "    \"\"\" print(\"Elim Gaussiana\")\n",
    "    print(np.var(timesEG))\n",
    "    print(np.mean(timesEG))\n",
    "    print(\"Jacobi\")\n",
    "    print(np.var(timesJac))\n",
    "    print(np.mean(timesJac))\n",
    "    print(\"Gauss-Seidel\")\n",
    "    print(np.var(timesGS))\n",
    "    print(np.mean(timesGS)) \"\"\"\n",
    "    var = [np.var(timesEG), np.var(timesJac),np.var(timesGS)]\n",
    "    mean = [np.mean(timesEG), np.mean(timesJac), np.mean(timesGS)]\n",
    "    return mean, var\n",
    "    "
   ]
  },
  {
   "cell_type": "markdown",
   "metadata": {},
   "source": [
    "Calcular rankings"
   ]
  },
  {
   "cell_type": "code",
   "execution_count": 1,
   "metadata": {},
   "outputs": [],
   "source": [
    "def calcular_ranks_de_matriz(G, p):\n",
    "    n = np.shape(G)[0]\n",
    "    cjs = grados(G)\n",
    "    D = np.array(np.diag(cjs))\n",
    "    I = np.array(np.eye((n)))\n",
    "    R = G @ D\n",
    "    pR = p*R\n",
    "    A = I - pR\n",
    "    col = np.array(np.ones(n))\n",
    "    x = linalg.solve(A, col)\n",
    "    normalized_x = (x)/np.sum(x)\n",
    "    \n",
    "    return normalized_x,np.mean(A) "
   ]
  },
  {
   "cell_type": "markdown",
   "metadata": {},
   "source": [
    "Metodos Iterativos"
   ]
  },
  {
   "cell_type": "code",
   "execution_count": 6,
   "metadata": {},
   "outputs": [],
   "source": [
    "def jacobi(A,b,reps,x_ini,x_direct):\n",
    "    # Matrices para los metodos iterativos\n",
    "    D = np.diag(np.diag(A))\n",
    "    L = np.triu(-A, k=1)\n",
    "    U = np.tril(-A, k=-1)\n",
    "    \n",
    "    T =  lng.inv(D) @(L+U)\n",
    "    c =  lng.inv(D) \n",
    "\n",
    "    print(\"Converge Jacobi: \" , max(abs(np.linalg.eig(T)[0])) <1, max(abs(np.linalg.eig(T)[0])) ) \n",
    "\n",
    "    xi = x_ini \n",
    "    error = []\n",
    "    for i in range(reps):\n",
    "        xi = T@xi + c@b\n",
    "        error.append(np.linalg.norm(xi - x_direct))\n",
    "    return xi, error"
   ]
  },
  {
   "cell_type": "code",
   "execution_count": 5,
   "metadata": {},
   "outputs": [],
   "source": [
    "def gauss_seidel(A,b,reps,x_ini,x_direct):\n",
    "    # Matrices para los metodos iterativos\n",
    "    D = np.diag(np.diag(A))\n",
    "\n",
    "    L = np.tril(-A, k=-1)\n",
    "    U = np.triu(-A, k=1) \n",
    "\n",
    "    T = (np.linalg.inv(D-L))@U \n",
    "    c = (np.linalg.inv(D-L))\n",
    "\n",
    "    print(\"Converge GS: \" , max(abs(np.linalg.eig(T)[0])) <1,  max(abs(np.linalg.eig(T)[0]))) \n",
    "\n",
    "    xi = x_ini \n",
    "    error = []\n",
    "    for i in range(reps):\n",
    "        xi = T@xi + c@b \n",
    "        error.append(np.linalg.norm(xi - x_direct))\n",
    "    return xi, error"
   ]
  },
  {
   "cell_type": "markdown",
   "metadata": {},
   "source": [
    "Metodos Directos"
   ]
  },
  {
   "cell_type": "code",
   "execution_count": 4,
   "metadata": {},
   "outputs": [],
   "source": [
    "def grados(A):\n",
    "    res = np.zeros(np.shape(A)[0])\n",
    "    for i in range(0, np.shape(A)[0]):\n",
    "        if(np.sum(A,axis = 0)[i] != 0):\n",
    "            res[i] = 1/(np.sum(A,axis = 0)[i])\n",
    "    return res\n",
    "    \n",
    "def calcular_ranks(test, p):\n",
    "    G = leer_grafo( test)\n",
    "    n = np.shape(G)[0]\n",
    "    cjs = grados(G)\n",
    "    D = np.array(np.diag(cjs))\n",
    "    I = np.array(np.eye((n)))\n",
    "    R = G @ D\n",
    "    pR = p*R\n",
    "    A = I - pR\n",
    "    col = np.array(np.ones(n))\n",
    "    x = lng.solve(A, col)\n",
    "    normalized_x = (x)/np.sum(x)\n",
    "    \n",
    "    return normalized_x, np.mean(A) "
   ]
  },
  {
   "cell_type": "markdown",
   "metadata": {},
   "source": [
    "Armar grafos"
   ]
  },
  {
   "cell_type": "code",
   "execution_count": null,
   "metadata": {},
   "outputs": [],
   "source": [
    "def armar_grafo_supernodo(n):\n",
    "  #El nodo 0 es la página supernodo que es citada por todas y los demás nodos  \n",
    "    supernodo = np.array(np.zeros(n*n)).reshape(n, n) ## i en w[i][j] j->i\n",
    "    for j in range(1, n):\n",
    "          # todos linkean al supernodo\n",
    "          supernodo[0][j] = 1\n",
    "    generar_archivo_test_de_matriz('test_supernodo_' + str(n) + '.txt', supernodo)\n",
    "    return supernodo"
   ]
  },
  {
   "cell_type": "code",
   "execution_count": null,
   "metadata": {},
   "outputs": [],
   "source": [
    "def experimento_supernodo_le_agrego_ejes(n, p):\n",
    "    #Generar el supernodo vacio y calcula los rankings a medida de que \n",
    "    #Agrega links entrantes al supernodo. \n",
    "    \n",
    "    W = np.array(np.zeros(n*n)).reshape(n,n)\n",
    "\n",
    "    ranking_prom = np.array(np.zeros(n-1))\n",
    "    pos_ranking_prom = np.array(np.zeros(n-1))\n",
    "    \n",
    "    for i in range(1, n):\n",
    "        W[0][i] = 1\n",
    "        res = calcular_ranks_de_matriz(W, p) \n",
    "        ranking_prom[i-1] = res[0]\n",
    "        res_sort = -np.sort(-res)\n",
    "        pos_ranking_prom[i-1] = np.where(res_sort == res[0])[0][0] + 1\n",
    "    return [ranking_prom, pos_ranking_prom]"
   ]
  },
  {
   "cell_type": "code",
   "execution_count": null,
   "metadata": {},
   "outputs": [],
   "source": [
    "def armar_grafo_antisupernodo(n):\n",
    "    #El nodo 0 es la página antisupernodo que cita a todas pero nadie la cita.  \n",
    "    antisupernodo = np.array(np.zeros(n*n)).reshape(n, n) ## i en w[i][j] j->i\n",
    "    for j in range(1, n):\n",
    "      # antisupernodo linkea a todos\n",
    "      antisupernodo[j][0] = 1\n",
    "    generar_archivo_test_de_matriz('test_antisupernodo_' + str(n) + '.txt', antisupernodo)\n",
    "    return antisupernodo"
   ]
  },
  {
   "cell_type": "code",
   "execution_count": null,
   "metadata": {},
   "outputs": [],
   "source": [
    "def experimento_antisupernodo_le_agrego_ejes(n, p):\n",
    "    #Generar el anti-supernodo vacio y calcula los rankings a medida de que \n",
    "    #Agrega links salientes del anti-supernodo. \n",
    "    \n",
    "    W = np.array(np.zeros(n*n)).reshape(n,n)\n",
    "\n",
    "    ranking_prom = np.array(np.zeros(n-1))\n",
    "    pos_ranking_prom = np.array(np.zeros(n-1))\n",
    "    \n",
    "    for i in range(1, n):\n",
    "        W[i][0] = 1\n",
    "        res = calcular_ranks_de_matriz(W, p) \n",
    "        ranking_prom[i-1] = res[0]\n",
    "        res_sort = -np.sort(-res)\n",
    "        pos_ranking_prom[i-1] = np.where(res_sort == res[0])[0][0] + 1\n",
    "    return [ranking_prom, pos_ranking_prom]"
   ]
  }
 ],
 "metadata": {
  "kernelspec": {
   "display_name": "Python 3.8.10 64-bit",
   "language": "python",
   "name": "python3"
  },
  "language_info": {
   "codemirror_mode": {
    "name": "ipython",
    "version": 3
   },
   "file_extension": ".py",
   "mimetype": "text/x-python",
   "name": "python",
   "nbconvert_exporter": "python",
   "pygments_lexer": "ipython3",
   "version": "3.8.10"
  },
  "orig_nbformat": 4,
  "vscode": {
   "interpreter": {
    "hash": "916dbcbb3f70747c44a77c7bcd40155683ae19c65e1c03b4aa3499c5328201f1"
   }
  }
 },
 "nbformat": 4,
 "nbformat_minor": 2
}
